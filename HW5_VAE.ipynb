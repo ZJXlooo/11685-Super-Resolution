{
  "nbformat": 4,
  "nbformat_minor": 0,
  "metadata": {
    "colab": {
      "name": "HW5-VAE.ipynb",
      "provenance": [],
      "collapsed_sections": []
    },
    "kernelspec": {
      "name": "python3",
      "display_name": "Python 3"
    },
    "language_info": {
      "name": "python"
    },
    "accelerator": "GPU"
  },
  "cells": [
    {
      "cell_type": "code",
      "metadata": {
        "colab": {
          "base_uri": "https://localhost:8080/"
        },
        "id": "iMbm2bgb4Asi",
        "outputId": "7376b8a9-c75b-4410-c0f6-3f35b1d8bfdc"
      },
      "source": [
        "from google.colab import drive\n",
        "import json\n",
        "drive.mount(\"/content/gdrive\", force_remount=True)"
      ],
      "execution_count": 1,
      "outputs": [
        {
          "output_type": "stream",
          "text": [
            "Mounted at /content/gdrive\n"
          ],
          "name": "stdout"
        }
      ]
    },
    {
      "cell_type": "code",
      "metadata": {
        "id": "3huhYfiI9py1"
      },
      "source": [
        "import torch\n",
        "import torch.nn as nn\n",
        "import torch.optim as optim\n",
        "from torch.utils.data import DataLoader\n",
        "from torchvision.utils import save_image\n",
        "from skimage.metrics import peak_signal_noise_ratio, structural_similarity\n",
        "\n",
        "import os\n",
        "from random import seed\n",
        "import time\n",
        "from util import *\n",
        "\n",
        "seed(11785)"
      ],
      "execution_count": 2,
      "outputs": []
    },
    {
      "cell_type": "code",
      "metadata": {
        "id": "C0rXrWk0_tXe"
      },
      "source": [
        "#Define the Convolutional Autoencoder\n",
        "class ConvAutoencoder(nn.Module):\n",
        "    def __init__(self):\n",
        "        super(ConvAutoencoder, self).__init__()\n",
        "       \n",
        "        #Encoder\n",
        "        self.encoder = nn.Sequential(nn.Conv2d(3, 64, 3, padding=1),\n",
        "                                     nn.BatchNorm2d(64),\n",
        "                                     nn.PReLU(),\n",
        "                                     nn.MaxPool2d(2, 2),\n",
        "                                     nn.Conv2d(64, 128, 3, padding=1),\n",
        "                                     nn.BatchNorm2d(128),\n",
        "                                     nn.PReLU(),\n",
        "                                     nn.MaxPool2d(2, 2))\n",
        "       \n",
        "        #Decoder\n",
        "        self.decoder = nn.Sequential(nn.ConvTranspose2d(128, 64, 2, stride=2),\n",
        "                                     nn.BatchNorm2d(64),\n",
        "                                     nn.PReLU(),\n",
        "                                     nn.ConvTranspose2d(64, 3, 2, stride=2))\n",
        "    def forward(self, x):\n",
        "        emb = self.encoder(x)\n",
        "        y = self.decoder(emb)\n",
        "        return y"
      ],
      "execution_count": 3,
      "outputs": []
    },
    {
      "cell_type": "code",
      "metadata": {
        "id": "0P7DRWmEisqe"
      },
      "source": [
        "# parameter\n",
        "class args():\n",
        "  batch_size = 8\n",
        "  checkpoint_dir = 'VAE/checkpoints' #path to saved models\n",
        "  sample_dir = 'samples'  #folder to output images and model checkpoints\n",
        "  sample_batch_size = 1\n",
        "  load_model_epoch = False  # model epoch to load, start from scratch if False\n",
        "  resize = 128\n",
        "  n_epochs = 100\n",
        "  lr = 1e-3\n",
        "  device = torch.device(\"cuda\" if torch.cuda.is_available() else \"cpu\")"
      ],
      "execution_count": 4,
      "outputs": []
    },
    {
      "cell_type": "code",
      "metadata": {
        "colab": {
          "base_uri": "https://localhost:8080/"
        },
        "id": "SolpBHJjk0br",
        "outputId": "2186ab93-aabe-4e55-99b8-546f967926e3"
      },
      "source": [
        "# download dataset and pre processing (crop or resize)\n",
        "download_dataset()\n",
        "\n",
        "print('[!] Making Patches')\n",
        "# crop_image('train_hr', 'train_lr', 96, 24)\n",
        "resize_image('train_hr', args.resize)\n",
        "resize_image('train_lr', args.resize)\n",
        "\n",
        "resize_image('valid_hr', args.resize)\n",
        "resize_image('valid_lr', args.resize)"
      ],
      "execution_count": 5,
      "outputs": [
        {
          "output_type": "stream",
          "text": [
            "\rDIV2K_train_HR.zip: 0.00B [00:00, ?B/s]"
          ],
          "name": "stderr"
        },
        {
          "output_type": "stream",
          "text": [
            "[!] Downloading Dataset\n",
            "[!] download data file\n"
          ],
          "name": "stdout"
        },
        {
          "output_type": "stream",
          "text": [
            "DIV2K_train_HR.zip: 3.53GB [03:04, 19.1MB/s]                            \n",
            "DIV2K_train_LR_bicubic_X4.zip: 0.00B [00:00, ?B/s]"
          ],
          "name": "stderr"
        },
        {
          "output_type": "stream",
          "text": [
            "[!] download data file\n"
          ],
          "name": "stdout"
        },
        {
          "output_type": "stream",
          "text": [
            "DIV2K_train_LR_bicubic_X4.zip: 247MB [00:14, 16.7MB/s]                           \n",
            "DIV2K_valid_HR.zip: 0.00B [00:00, ?B/s]"
          ],
          "name": "stderr"
        },
        {
          "output_type": "stream",
          "text": [
            "[!] download data file\n"
          ],
          "name": "stdout"
        },
        {
          "output_type": "stream",
          "text": [
            "DIV2K_valid_HR.zip: 449MB [00:25, 17.3MB/s]                           \n",
            "DIV2K_valid_LR_bicubic_X4.zip: 0.00B [00:00, ?B/s]"
          ],
          "name": "stderr"
        },
        {
          "output_type": "stream",
          "text": [
            "[!] download data file\n"
          ],
          "name": "stdout"
        },
        {
          "output_type": "stream",
          "text": [
            "DIV2K_valid_LR_bicubic_X4.zip: 31.5MB [00:04, 7.65MB/s]                            \n"
          ],
          "name": "stderr"
        },
        {
          "output_type": "stream",
          "text": [
            "[!] Upzip zipfile\n",
            "[!] Reformat DIV2K HR (Training Set)\n",
            "[!] Reformat DIV2K LR (Training Set)\n",
            "[!] Reformat DIV2K HR (Validation Set)\n",
            "[!] Reformat DIV2K LR (Validation Set)\n",
            "[!] Making Patches\n",
            "[*] [0/800] Make patch train_hr/0015.png\n",
            "[*] [500/800] Make patch train_hr/0486.png\n",
            "[*] [0/800] Make patch train_lr/0015.png\n",
            "[*] [500/800] Make patch train_lr/0486.png\n",
            "[*] [0/100] Make patch valid_hr/0015.png\n",
            "[*] [0/100] Make patch valid_lr/0015.png\n"
          ],
          "name": "stdout"
        }
      ]
    },
    {
      "cell_type": "code",
      "metadata": {
        "colab": {
          "base_uri": "https://localhost:8080/"
        },
        "id": "X6vAN3LWA3RL",
        "outputId": "37295909-0420-4120-faf9-5f49a6f8013f"
      },
      "source": [
        "model = ConvAutoencoder().to(args.device)\n",
        "if args.load_model_epoch:\n",
        "  %cd ./gdrive/My Drive/11785/HW5/\n",
        "  print(f\"[*] Load model from google drive {args.checkpoint_dir} epoch {args.load_model_epoch}\")\n",
        "  if not os.path.exists(args.checkpoint_dir):\n",
        "    os.makedirs(args.checkpoint_dir)\n",
        "  model.load_state_dict(torch.load(os.path.join(args.checkpoint_dir, f'VAE_{args.load_model_epoch}.pth')))\n",
        "  %cd /content\n",
        "print(model)\n",
        "\n",
        "#Loss function\n",
        "criterion = nn.MSELoss()\n",
        "\n",
        "#Optimizer\n",
        "optimizer = optim.Adam(model.parameters(), lr=args.lr)\n",
        "\n",
        "#Scheduler\n",
        "scheduler = optim.lr_scheduler.StepLR(optimizer, step_size = args.n_epochs//5, gamma = 0.1)\n",
        "\n",
        "train_dataset = Datasets('train')\n",
        "train_loader = torch.utils.data.DataLoader(dataset=train_dataset, batch_size=args.batch_size, shuffle=True)\n",
        "dev_dataset = Datasets('valid')\n",
        "dev_loader = torch.utils.data.DataLoader(dataset=dev_dataset, batch_size=args.sample_batch_size, shuffle=True)"
      ],
      "execution_count": 5,
      "outputs": [
        {
          "output_type": "stream",
          "text": [
            "ConvAutoencoder(\n",
            "  (encoder): Sequential(\n",
            "    (0): Conv2d(3, 64, kernel_size=(3, 3), stride=(1, 1), padding=(1, 1))\n",
            "    (1): BatchNorm2d(64, eps=1e-05, momentum=0.1, affine=True, track_running_stats=True)\n",
            "    (2): PReLU(num_parameters=1)\n",
            "    (3): MaxPool2d(kernel_size=2, stride=2, padding=0, dilation=1, ceil_mode=False)\n",
            "    (4): Conv2d(64, 128, kernel_size=(3, 3), stride=(1, 1), padding=(1, 1))\n",
            "    (5): BatchNorm2d(128, eps=1e-05, momentum=0.1, affine=True, track_running_stats=True)\n",
            "    (6): PReLU(num_parameters=1)\n",
            "    (7): MaxPool2d(kernel_size=2, stride=2, padding=0, dilation=1, ceil_mode=False)\n",
            "  )\n",
            "  (decoder): Sequential(\n",
            "    (0): ConvTranspose2d(128, 64, kernel_size=(2, 2), stride=(2, 2))\n",
            "    (1): BatchNorm2d(64, eps=1e-05, momentum=0.1, affine=True, track_running_stats=True)\n",
            "    (2): PReLU(num_parameters=1)\n",
            "    (3): ConvTranspose2d(64, 3, kernel_size=(2, 2), stride=(2, 2))\n",
            "  )\n",
            ")\n"
          ],
          "name": "stdout"
        }
      ]
    },
    {
      "cell_type": "code",
      "metadata": {
        "id": "XHzWMsP1BUoG"
      },
      "source": [
        "#Epochs\n",
        "torch.cuda.empty_cache()\n",
        "\n",
        "if not os.path.exists(args.sample_dir):\n",
        "    os.makedirs(args.sample_dir)\n",
        "for epoch in range(args.n_epochs):\n",
        "    start_time = time.time()\n",
        "    train_loss = 0.0\n",
        "    model.train()\n",
        "    #Training\n",
        "    for i, tr_data in enumerate(train_loader):\n",
        "        # if i == 10: break\n",
        "        hr = tr_data['hr'].to(args.device)\n",
        "        lr = tr_data['lr'].to(args.device)\n",
        "\n",
        "        optimizer.zero_grad()\n",
        "        outputs = model(lr)\n",
        "\n",
        "        loss = criterion(outputs, hr)\n",
        "        loss.backward()\n",
        "        optimizer.step()\n",
        "        train_loss += loss.item()\n",
        "\n",
        "        if i == 0:\n",
        "          result = torch.cat((hr, outputs, lr), 2)\n",
        "          save_image(result, os.path.join(args.sample_dir, f\"SR_{epoch}.png\"))\n",
        "    train_end_time = time.time()\n",
        "    PSNR, SSIM, valid_loss  = 0, 0, 0\n",
        "    for i, tr_data in enumerate(dev_loader):\n",
        "        model.eval()\n",
        "        # if i == 10: break\n",
        "        with torch.no_grad():\n",
        "          hr = tr_data['hr'].to(args.device)\n",
        "          lr = tr_data['lr'].to(args.device)\n",
        "\n",
        "          optimizer.zero_grad()\n",
        "          outputs = model(lr)\n",
        "\n",
        "          loss = criterion(outputs, hr)\n",
        "          hr = hr.permute(0, 2, 3, 1).cpu().detach().numpy()\n",
        "          outputs = outputs.permute(0, 2, 3, 1).cpu().detach().numpy()\n",
        "\n",
        "          valid_loss += loss.item()\n",
        "          # print(hr.shape)\n",
        "          # print(outputs.shape)\n",
        "          PSNR += peak_signal_noise_ratio(hr[0], outputs[0])\n",
        "          SSIM += structural_similarity(hr[0], outputs[0], multichannel=True)\n",
        "\n",
        "    end_time = time.time()\n",
        "    scheduler.step()\n",
        "    train_loss = train_loss/len(train_loader)\n",
        "    valid_loss = valid_loss/len(dev_loader)\n",
        "    PSNR = PSNR / len(dev_loader)\n",
        "    SSIM = SSIM / len(dev_loader)\n",
        "    print('Epoch: {} \\tTraining Loss: {:.6f}'.format(epoch, train_loss))\n",
        "    print('Epoch: {} \\tTraining Time: {:.6f}'.format(epoch, train_end_time-start_time))\n",
        "    print('Epoch: {} \\tValidation Loss: {:.6f}'.format(epoch, valid_loss))\n",
        "    print('Epoch: {} \\tPSNR: {:.6f}'.format(epoch, PSNR))\n",
        "    print('Epoch: {} \\tSSIM: {:.6f}\\n'.format(epoch, SSIM))\n",
        "    print('Epoch: {} \\tValidation Time: {:.6f}\\n'.format(epoch, end_time-train_end_time))\n",
        "\n",
        "    \n",
        "    if epoch >= 10:\n",
        "      %cd ./gdrive/My Drive/11785/HW5/\n",
        "      if not os.path.exists(args.checkpoint_dir):\n",
        "        os.makedirs(args.checkpoint_dir)\n",
        "      torch.save(model.state_dict(), os.path.join(args.checkpoint_dir, f\"VAE_{epoch}.pth\"))\n",
        "      %cd /content"
      ],
      "execution_count": 7,
      "outputs": []
    },
    {
      "cell_type": "code",
      "metadata": {
        "colab": {
          "base_uri": "https://localhost:8080/"
        },
        "id": "2lB8KWCcChhq",
        "outputId": "153b1f63-f4d9-41c8-ecf1-720ea2ad9c44"
      },
      "source": [
        "# change to google drive to generate the result using trained model\n",
        "%cd /content/gdrive/My Drive/11785/HW5\n",
        "\n",
        "def test(target_folder, load_model_epoch, args, resize=False): # generate image from testset\n",
        "    if resize:\n",
        "      resize_image('test_lr/'+target_folder, resize, 'test_resize/'+target_folder)\n",
        "      test_dataset = Datasets(mode='test_resize/'+target_folder)\n",
        "    else:\n",
        "      test_dataset = Datasets(mode='test_lr/'+target_folder)\n",
        "    test_loader = torch.utils.data.DataLoader(dataset=test_dataset, batch_size=args.sample_batch_size)\n",
        "    if not os.path.exists('test_results/'+target_folder):\n",
        "      os.makedirs('test_results/'+target_folder)\n",
        "    \n",
        "    model = ConvAutoencoder().to(args.device)\n",
        "    model.load_state_dict(torch.load(os.path.join(args.checkpoint_dir, f'VAE_{load_model_epoch}.pth')))\n",
        "    with torch.no_grad():\n",
        "      model.eval()\n",
        "      for step, image in enumerate(test_loader):\n",
        "        lr = image['lr'].to(args.device)\n",
        "        image_name = image['hr']\n",
        "        outputs = model(lr)\n",
        "        save_image(outputs, os.path.join('test_results/'+target_folder, image_name[0]))\n",
        "\n",
        "target_folder = ['large_test', 'small_test', 'comics', 'structures']\n",
        "load_model_epoch = 133\n",
        "for t in target_folder:\n",
        "    test(t, load_model_epoch, args)"
      ],
      "execution_count": 18,
      "outputs": [
        {
          "output_type": "stream",
          "text": [
            "/content/gdrive/My Drive/11785/HW5\n"
          ],
          "name": "stdout"
        }
      ]
    },
    {
      "cell_type": "code",
      "metadata": {
        "id": "hOZ4fKy2DOP_"
      },
      "source": [
        "# calculate the test set PSNR and SSIM using script provided\n",
        "\n",
        "TEST_LABEL_PATH = 'test_labels/small_test/'\n",
        "TEST_RESULT_PATH = 'test_results/small_test/'\n",
        "TEST_RESTORE_PATH =  'test_restore_results/small_test/'\n",
        "\n",
        "\n",
        "scores = compute_scores(TEST_LABEL_PATH, TEST_RESULT_PATH, TEST_RESTORE_PATH)\n",
        "print('small_test: ', scores)\n",
        "\n",
        "TEST_LABEL_PATH = 'test_labels/large_test/'\n",
        "TEST_RESULT_PATH = 'test_results/large_test/'\n",
        "TEST_RESTORE_PATH =  'test_restore_results/large_test/'\n",
        "\n",
        "scores = compute_scores(TEST_LABEL_PATH, TEST_RESULT_PATH, TEST_RESTORE_PATH)\n",
        "print('large_test: ', scores)\n",
        "\n",
        "TEST_LABEL_PATH = 'test_labels/comics/'\n",
        "TEST_RESULT_PATH = 'test_results/comics/'\n",
        "TEST_RESTORE_PATH =  'test_restore_results/comics/'\n",
        "\n",
        "scores = compute_scores(TEST_LABEL_PATH, TEST_RESULT_PATH, TEST_RESTORE_PATH)\n",
        "print('comic: ', scores)\n",
        "\n",
        "TEST_LABEL_PATH = 'test_labels/structures/'\n",
        "TEST_RESULT_PATH = 'test_results/structures/'\n",
        "TEST_RESTORE_PATH =  'test_restore_results/structures/'\n",
        "\n",
        "scores = compute_scores(TEST_LABEL_PATH, TEST_RESULT_PATH, TEST_RESTORE_PATH)\n",
        "print('structures: ', scores)"
      ],
      "execution_count": 9,
      "outputs": []
    }
  ]
}